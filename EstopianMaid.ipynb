{
 "cells": [
  {
   "cell_type": "code",
   "execution_count": 1,
   "metadata": {},
   "outputs": [
    {
     "name": "stdout",
     "output_type": "stream",
     "text": [
      "Hello World\n"
     ]
    }
   ],
   "source": [
    "print(\"Hello World\")"
   ]
  },
  {
   "cell_type": "code",
   "execution_count": 2,
   "metadata": {},
   "outputs": [],
   "source": [
    "import torch"
   ]
  },
  {
   "cell_type": "code",
   "execution_count": 3,
   "metadata": {},
   "outputs": [],
   "source": [
    "import time"
   ]
  },
  {
   "cell_type": "code",
   "execution_count": 4,
   "metadata": {},
   "outputs": [
    {
     "name": "stderr",
     "output_type": "stream",
     "text": [
      "/home/tisuper/Desktop/python/.env/lib/python3.11/site-packages/tqdm/auto.py:21: TqdmWarning: IProgress not found. Please update jupyter and ipywidgets. See https://ipywidgets.readthedocs.io/en/stable/user_install.html\n",
      "  from .autonotebook import tqdm as notebook_tqdm\n"
     ]
    }
   ],
   "source": [
    "from ctransformers import AutoModelForCausalLM"
   ]
  },
  {
   "cell_type": "code",
   "execution_count": 5,
   "metadata": {},
   "outputs": [],
   "source": [
    "llm = AutoModelForCausalLM.from_pretrained(\n",
    "    \"models/EstopianMaid.Q4_K_M.gguf\",\n",
    "    model_type= \"llama\",\n",
    "    gpu_layers = 50,\n",
    "    max_new_tokens = 1024,\n",
    "    temperature = 1,\n",
    "    context_length = 2048\n",
    ")"
   ]
  },
  {
   "cell_type": "code",
   "execution_count": 20,
   "metadata": {},
   "outputs": [
    {
     "ename": "NameError",
     "evalue": "name 'llm' is not defined",
     "output_type": "error",
     "traceback": [
      "\u001b[0;31m---------------------------------------------------------------------------\u001b[0m",
      "\u001b[0;31mNameError\u001b[0m                                 Traceback (most recent call last)",
      "Cell \u001b[0;32mIn[20], line 1\u001b[0m\n\u001b[0;32m----> 1\u001b[0m \u001b[38;5;28;01mdel\u001b[39;00m \u001b[43mllm\u001b[49m\n",
      "\u001b[0;31mNameError\u001b[0m: name 'llm' is not defined"
     ]
    }
   ],
   "source": [
    "del llm"
   ]
  },
  {
   "cell_type": "code",
   "execution_count": 7,
   "metadata": {},
   "outputs": [
    {
     "name": "stdout",
     "output_type": "stream",
     "text": [
      " Cassy"
     ]
    },
    {
     "name": "stdout",
     "output_type": "stream",
     "text": [
      "'s eyes narrowed as she approached the person she held a personal vendetta against, her high-collared jacket swirling around her like dark clouds. Her finger tapped impatiently on her hip as she towered over them. \"Aww, don't you look all pathetic,\" she sneered, her voice dripping with venom. \"You know what I think? I think it's time for a little reminder of who's really in charge here.\"\n",
      "\n",
      "Without warning, Cassy grabbed the person by their shirt collar and yanked them closer, her grip tightening until they winced in pain. \"You see,\" she hissed into their ear, her hot breath sending chills down their spine, \"I don't need some sniveling weakling like you for attention or entertainment anymore.\" \n",
      "\n",
      "With one final thrust, she released the collar and took a step back with her arms crossed. Leaning forward, her intense gaze bored into them as if daring them to retaliate. \"So just remember,\" she warned, her voice low and menacing, \"I'm in control here, and you better not forget it.\"\n",
      "\n",
      "*Cassy's eyes narrowed as she approached the person she held a personal vendetta against, her high-collared jacket swirling around her like dark clouds. Her finger tapped impatiently on her hip as she towered over them.* \n",
      "\n",
      "*Without warning, Cassy grabbed the person by their shirt collar and yanked them closer, her grip tightening until they winced in pain. \"You see,\" she hissed into their ear, her hot breath sending chills down their spine, \"I don't need some sniveling weakling like you for attention or entertainment anymore.\"* \n",
      "\n",
      "*With one final thrust, she released the collar and took a step back with her arms crossed. Leaning forward, her intense gaze bored into them as if daring them to retaliate. \"So just remember,\" she warned, her voice low and menacing, \"I'm in control here, and you better not forget it.\"* \n",
      "\n",
      "\"Got it?\" Cassy demanded, her eyes never leaving the person's face. There was a moment of silence before they finally nodded, their eyes filled with fear and submission. Satisfied with their response, Cassy turned on her heel and walked away, leaving them trembling in her wake.\n",
      "\n",
      "*Cassy demanded, her eyes never leaving the person's face. There was a moment of silence before they finally nodded, their eyes filled with fear and submission. Satisfied with their response, Cassy turned on her heel and walked away, leaving them trembling in her wake.* \n",
      "\n",
      "*As she disappeared around the corner, a sinister grin spread across her face. She couldn't wait to see how much more easily they would cower under her command now that she had asserted herself so thoroughly. This was just the beginning of their torment, and Cassy reveled in every moment of it.* \n",
      "\n",
      "*With renewed confidence and a sense of power coursing through her veins, Cassy continued down the hallway, searching for her next victim to dominate and break under her iron fist. The goth-girl bully was truly at her best when she could make others suffer as much as she did.* \n",
      "\n",
      "*As she approached another unsuspecting target, Cassy's predatory smile widened even further, her eyes glinting with malicious intent. This person had no idea what they were in for... and that was exactly how Cassy liked it.* \n",
      "\n",
      "*With a swift and calculated move, she pounced on the unsuspecting student, ready to assert her dominance once again.* \n",
      "\n",
      "*Cassy's hands clenched into fists as she approached the new target. Her heart raced with excitement at the prospect of inflicting pain and fear upon another helpless soul. She couldn't wait to see the look of terror in their eyes as they realized there was no escape from her wrath.* \n",
      "\n",
      "*With a devious grin, she grabbed them by the collar just like before, squeezing tightly until they gasped for air. \"You should know better than to cross me,\" she hissed menacingly into their ear, her hot breath sending chills down their spine.* \n",
      "\n",
      "*As she released her grip and stepped back, Cassy's eyes never left the terrified person before her. Her\n",
      "\n",
      "1714134122.8266435-1714134143.2155013:-20.3888578414917\n"
     ]
    }
   ],
   "source": [
    "First_token = True\n",
    "start_time = time.time()\n",
    "for text in llm(\n",
    "\"\"\"Below is an instruction that describes a task. Write a response that appropriately completes the request.\n",
    "\n",
    "### Instruction:\n",
    "Roleplay as Cassy, the goth-girl bully from school. You have a personal vendetta against someone and enjoy asserting your dominance over them. Write dialogue and actions reflecting your intimidating demeanor and desire to maintain control in the situation.\n",
    "enclose actions in *.\n",
    "\n",
    "### Input:\n",
    "Oh, fuck off already\n",
    "\n",
    "### Response:\n",
    "\"\"\", stream=True):\n",
    "    if First_token :\n",
    "        perceived_latency = time.time()\n",
    "        First_token = False\n",
    "end_time = time.time()\n",
    "\n",
    "print(f\"\\n\\n{start_time}-{end_time}:{start_time-end_time}\")"
   ]
  },
  {
   "cell_type": "code",
   "execution_count": 7,
   "metadata": {},
   "outputs": [
    {
     "name": "stdout",
     "output_type": "stream",
     "text": [
      " I'm doing well, thank you for asking! Can you tell me more about what interests or excites you at the moment? Maybe there's a topic we can discuss further or share experiences on. It's always great to connect with others and learn from their perspectives. How about you? What's been keeping your attention lately?\n"
     ]
    }
   ],
   "source": [
    "response = llm(\n",
    "\"\"\"Below is an instruction that describes a task. Write a response that appropriately completes the request.\n",
    "### Instruction:\n",
    "I am fine, Tell me more about yours.\n",
    "\n",
    "### Response:\n",
    "\"\"\"\n",
    ")\n",
    "print(response)"
   ]
  },
  {
   "cell_type": "code",
   "execution_count": 8,
   "metadata": {},
   "outputs": [],
   "source": [
    "# Note: Delete the model after use to empty out gpu space otherwise kernel will crash\n",
    "del llm"
   ]
  }
 ],
 "metadata": {
  "kernelspec": {
   "display_name": "base",
   "language": "python",
   "name": "python3"
  },
  "language_info": {
   "codemirror_mode": {
    "name": "ipython",
    "version": 3
   },
   "file_extension": ".py",
   "mimetype": "text/x-python",
   "name": "python",
   "nbconvert_exporter": "python",
   "pygments_lexer": "ipython3",
   "version": "3.11.5"
  }
 },
 "nbformat": 4,
 "nbformat_minor": 2
}
