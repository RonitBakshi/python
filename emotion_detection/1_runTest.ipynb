{
 "cells": [
  {
   "cell_type": "code",
   "execution_count": 10,
   "metadata": {},
   "outputs": [
    {
     "name": "stderr",
     "output_type": "stream",
     "text": [
      "/home/tisuper/Desktop/code/env/lib/python3.12/site-packages/transformers/tokenization_utils_base.py:1601: FutureWarning: `clean_up_tokenization_spaces` was not set. It will be set to `True` by default. This behavior will be depracted in transformers v4.45, and will be then set to `False` by default. For more details check this issue: https://github.com/huggingface/transformers/issues/31884\n",
      "  warnings.warn(\n",
      "Hardware accelerator e.g. GPU is available in the environment, but no `device` argument is passed to the `Pipeline` object. Model will be on CPU.\n",
      "/home/tisuper/Desktop/code/env/lib/python3.12/site-packages/transformers/pipelines/text_classification.py:104: UserWarning: `return_all_scores` is now deprecated,  if want a similar functionality use `top_k=None` instead of `return_all_scores=True` or `top_k=1` instead of `return_all_scores=False`.\n",
      "  warnings.warn(\n"
     ]
    }
   ],
   "source": [
    "from transformers import pipeline\n",
    "\n",
    "# Load a pre-trained emotion detection model\n",
    "emotion_classifier = pipeline('sentiment-analysis', model='j-hartmann/emotion-english-distilroberta-base',return_all_scores=True)"
   ]
  },
  {
   "cell_type": "code",
   "execution_count": 11,
   "metadata": {},
   "outputs": [],
   "source": [
    "texts = [\n",
    "    \"I am so happy today!\",\n",
    "    \"This is a sad moment.\",\n",
    "    \"I am extremely angry right now.\",\n",
    "    \"I am feeling very joyful and excited.\"\n",
    "]"
   ]
  },
  {
   "cell_type": "code",
   "execution_count": 12,
   "metadata": {},
   "outputs": [
    {
     "name": "stdout",
     "output_type": "stream",
     "text": [
      "Text: I am so happy today!\n",
      "Emotion: [[{'label': 'anger', 'score': 0.0015047617489472032}, {'label': 'disgust', 'score': 0.00035840191412717104}, {'label': 'fear', 'score': 0.00040151283610612154}, {'label': 'joy', 'score': 0.9615581035614014}, {'label': 'neutral', 'score': 0.0030506637413054705}, {'label': 'sadness', 'score': 0.005511832423508167}, {'label': 'surprise', 'score': 0.02761470526456833}]]\n",
      "\n",
      "Text: This is a sad moment.\n",
      "Emotion: [[{'label': 'anger', 'score': 0.00073483947198838}, {'label': 'disgust', 'score': 0.0033515116665512323}, {'label': 'fear', 'score': 0.001228743465617299}, {'label': 'joy', 'score': 0.0016810228116810322}, {'label': 'neutral', 'score': 0.010893604718148708}, {'label': 'sadness', 'score': 0.9775441884994507}, {'label': 'surprise', 'score': 0.004566089250147343}]]\n",
      "\n",
      "Text: I am extremely angry right now.\n",
      "Emotion: [[{'label': 'anger', 'score': 0.9837634563446045}, {'label': 'disgust', 'score': 0.0032477679196745157}, {'label': 'fear', 'score': 0.003348598023876548}, {'label': 'joy', 'score': 0.000580524792894721}, {'label': 'neutral', 'score': 0.004842684604227543}, {'label': 'sadness', 'score': 0.002637783996760845}, {'label': 'surprise', 'score': 0.0015791099285706878}]]\n",
      "\n",
      "Text: I am feeling very joyful and excited.\n",
      "Emotion: [[{'label': 'anger', 'score': 0.0012449207715690136}, {'label': 'disgust', 'score': 0.0009461374138481915}, {'label': 'fear', 'score': 0.0003081971372012049}, {'label': 'joy', 'score': 0.9941389560699463}, {'label': 'neutral', 'score': 0.0007995893247425556}, {'label': 'sadness', 'score': 0.0015990404644981027}, {'label': 'surprise', 'score': 0.0009631780558265746}]]\n",
      "\n"
     ]
    }
   ],
   "source": [
    "# Analyze the emotions in each text\n",
    "for text in texts:\n",
    "    result = emotion_classifier(text)\n",
    "    print(f\"Text: {text}\")\n",
    "    print(f\"Emotion: {result}\\n\")"
   ]
  },
  {
   "cell_type": "code",
   "execution_count": 25,
   "metadata": {},
   "outputs": [
    {
     "name": "stdout",
     "output_type": "stream",
     "text": [
      "filtered_scores: [{'label': 'anger', 'score': 0.19778850674629211}, {'label': 'joy', 'score': 0.009913049638271332}, {'label': 'neutral', 'score': 0.04408480226993561}, {'label': 'sadness', 'score': 0.012860341928899288}, {'label': 'surprise', 'score': 0.5657944083213806}]\n",
      "surprise\n"
     ]
    }
   ],
   "source": [
    "result = emotion_classifier(\"Hello, what even is that thing!!\")\n",
    "target_emotions = ['anger', 'sadness', 'surprise', 'joy', 'neutral']\n",
    "\n",
    "# Filter and find the maximum\n",
    "filtered_scores = [emotion for emotion in result[0] if emotion['label'] in target_emotions]\n",
    "print(f\"filtered_scores: {filtered_scores}\")\n",
    "max_emotion = max(filtered_scores, key=lambda x: x['score'])\n",
    "\n",
    "print(max_emotion['label'])"
   ]
  }
 ],
 "metadata": {
  "kernelspec": {
   "display_name": "Python 3",
   "language": "python",
   "name": "python3"
  },
  "language_info": {
   "codemirror_mode": {
    "name": "ipython",
    "version": 3
   },
   "file_extension": ".py",
   "mimetype": "text/x-python",
   "name": "python",
   "nbconvert_exporter": "python",
   "pygments_lexer": "ipython3",
   "version": "3.12.3"
  }
 },
 "nbformat": 4,
 "nbformat_minor": 2
}
