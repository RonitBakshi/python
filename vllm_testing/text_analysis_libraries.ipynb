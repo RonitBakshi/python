{
 "cells": [
  {
   "cell_type": "code",
   "execution_count": 38,
   "metadata": {},
   "outputs": [],
   "source": [
    "import nltk\n",
    "from nltk.corpus import stopwords\n",
    "from nltk.tokenize import word_tokenize\n",
    "from nltk.stem import WordNetLemmatizer\n",
    "from sklearn.feature_extraction.text import TfidfVectorizer\n",
    "from sklearn.metrics.pairwise import cosine_similarity"
   ]
  },
  {
   "cell_type": "code",
   "execution_count": 42,
   "metadata": {},
   "outputs": [
    {
     "name": "stderr",
     "output_type": "stream",
     "text": [
      "[nltk_data] Downloading package stopwords to\n",
      "[nltk_data]     /home/tisuper/nltk_data...\n",
      "[nltk_data]   Unzipping corpora/stopwords.zip.\n"
     ]
    },
    {
     "data": {
      "text/plain": [
       "True"
      ]
     },
     "execution_count": 42,
     "metadata": {},
     "output_type": "execute_result"
    }
   ],
   "source": [
    "nltk.download('stopwords')"
   ]
  },
  {
   "cell_type": "code",
   "execution_count": 43,
   "metadata": {},
   "outputs": [],
   "source": [
    "def text_similarity(text1, text2):\n",
    "    # Tokenize and lemmatize the texts\n",
    "    tokens1 = word_tokenize(text1)\n",
    "    tokens2 = word_tokenize(text2)\n",
    "    lemmatizer = WordNetLemmatizer()\n",
    "    tokens1 = [lemmatizer.lemmatize(token) for token in tokens1]\n",
    "    tokens2 = [lemmatizer.lemmatize(token) for token in tokens2]\n",
    "\n",
    "    # Remove stopwords\n",
    "    stop_words = stopwords.words('english')\n",
    "    tokens1 = [token for token in tokens1 if token not in stop_words]\n",
    "    tokens2 = [token for token in tokens2 if token not in stop_words]\n",
    "\n",
    "    # Create the TF-IDF vectors\n",
    "    vectorizer = TfidfVectorizer()\n",
    "    vector1 = vectorizer.fit_transform(tokens1)\n",
    "    vector2 = vectorizer.transform(tokens2)\n",
    "\n",
    "    # Calculate the cosine similarity\n",
    "    similarity = cosine_similarity(vector1, vector2)\n",
    "\n",
    "    return similarity"
   ]
  },
  {
   "cell_type": "code",
   "execution_count": 49,
   "metadata": {},
   "outputs": [],
   "source": [
    "text1 = \"Ronit hety pasdofn adsflns what lasdng aolnv\"\n",
    "text2 = \"Bakshi what is that\""
   ]
  },
  {
   "cell_type": "code",
   "execution_count": 50,
   "metadata": {},
   "outputs": [
    {
     "data": {
      "text/plain": [
       "array([[0.],\n",
       "       [0.],\n",
       "       [0.],\n",
       "       [0.],\n",
       "       [0.],\n",
       "       [0.]])"
      ]
     },
     "execution_count": 50,
     "metadata": {},
     "output_type": "execute_result"
    }
   ],
   "source": [
    "text_similarity(text1,text2)"
   ]
  },
  {
   "cell_type": "code",
   "execution_count": 51,
   "metadata": {},
   "outputs": [
    {
     "name": "stderr",
     "output_type": "stream",
     "text": [
      "/home/tisuper/Desktop/python/.env/lib/python3.11/site-packages/sentence_transformers/cross_encoder/CrossEncoder.py:11: TqdmWarning: IProgress not found. Please update jupyter and ipywidgets. See https://ipywidgets.readthedocs.io/en/stable/user_install.html\n",
      "  from tqdm.autonotebook import tqdm, trange\n"
     ]
    }
   ],
   "source": [
    "from sentence_transformers import SentenceTransformer, util"
   ]
  },
  {
   "cell_type": "code",
   "execution_count": 56,
   "metadata": {},
   "outputs": [],
   "source": [
    "model = SentenceTransformer('sentence-transformers/all-MiniLM-L6-v2')"
   ]
  },
  {
   "cell_type": "code",
   "execution_count": 87,
   "metadata": {},
   "outputs": [],
   "source": [
    "# https://staging.chatreal.ai/chat/66accc6f62d7d8eb43e4504b\n",
    "# examples of similar texts\n",
    "text1 = \"Ronit, it's good to see that you're enjoying yourself. Just remember to take breaks and not overdo it. If there's anything I can do to help or if you ever need someone to talk to, don't hesitate to reach out. I'm here for you.\"\n",
    "text2 = \"It's great to hear that you're having fun, Ronit. Just remember to stay safe and healthy while you're enjoying yourself. If there's anything I can do to help or if you ever need someone to talk to, feel free to reach out.\"\n",
    "text3 = \"It looks like you're having a good time. Just remember to stay safe and healthy, okay? If there's anything I can do to help or if you ever need someone to talk to, don't hesitate to reach out. I'm always here for you.\"\n",
    "text4 = \"It's good to see that you're having fun, Ronit. Just remember to stay safe and healthy while you're enjoying yourself. If there's anything I can do to help or if you ever need someone to talk to, feel free to reach out.\"\n",
    "text5 = \"Ronit, it sounds like you're having a good time. Just remember to stay safe and healthy while you're enjoying yourself. If there's anything I can do to help or if you ever need someone to talk to, feel free to reach out.\"\n",
    "text6 = \"It's good to see that you're having fun, Ronit. Just remember to stay safe and healthy while you're enjoying yourself. If there's anything I can do to help or if you ever need someone to talk to, don't hesitate to reach out.\"\n",
    "text7 = \"It's great to hear that you're having fun, Ronit. Just remember to stay safe and healthy while you're enjoying yourself. If there's anything I can do to help or if you ever need someone to talk to, feel free to reach out.\"\n",
    "\n",
    "text8 = \"Haha, well, at least you got to say you've been to Mars! I'm sure there were some amazing views from up there. Anyways, if you're ever in the mood to chat about anything else, I'm always here for you. It might feel weird being back on Earth after such an experience, but try not to let it get you down. Plus, we can always find something fun to do together—like that new restaurant we wanted to try or a painting class or something like that. Just let me know when you want to hang out!\"\n",
    "text9 = \"Absolutely, Ronit! There's no better time than now. And you're right about that too. It doesn't matter if it's been a day or a year since we last spoke, we should always make time for each other. So, how about we catch up over lunch? I know this amazing taco place that just opened up near here, and I'm sure they have some great vegan options as well. Or if you prefer something else, I can always suggest some other places around here. Just let me know when you're free, and we can hang out!\"\n",
    "text10 = \"Oh, well, it's not really a passion project per se. It's more like an escape from reality. You know how sometimes we just need to step away from everything and focus on something that makes us happy? Well, that's what I've been doing. I found this amazing online community where people share their artwork and stories, and it really helps me relax after a long day at work.\"\n",
    "text11 = \"Sure, Ronit. It's called 'The Vibrant Palette'. It's a virtual space where artists from all over the world can come together and share their work, techniques, and experiences. They have various groups based on different mediums or styles, and you can also create your own group if you want to focus on something specific. There are even contests with cool prizes like art supplies or gift cards to popular art stores.\"\n",
    "text12 = \"Yeah, that's pretty much it. It's not only for artists, though. Anyone who enjoys art can join in on the fun too. And you know how sometimes you see a painting or sculpture that just speaks to you? Well, The Vibrant Palette is like that but with real people behind the artworks. I've made some really good friends there from all over the world who share my passion for creating things with their hands (or brushes or whatever else they use). It's really cool to see how much talent there is out there and learn about new techniques and styles that I might not have known about otherwise. So, if you ever want to check it out or even give it a try yourself, let me know!\"\n",
    "text13 = \"They're doing pretty well, actually. My mom is still working on her pottery and painting, while my dad is enjoying his retirement by tinkering around with different projects in the garage. And my little sister just got accepted into an art school, so she's really excited about that! As for me, I still live with them and we get along great. We don't see each other as much as we used to since we all have our own lives now, but when we do hang out or go out for dinner or something like that, it feels like old times again. And if you ever want to catch up with them too, just let me know!\"\n",
    "text14 = \"Haha, yeah, I guess you could say that. It's definitely in our blood! But really, it's just something we all enjoy doing. We each have our own unique styles and mediums we prefer, but at the end of the day, we all share this passion for creating things with our hands (or brushes or whatever else we use). And even though life takes us down different paths sometimes, art always seems to bring us back together. So I consider myself lucky in that regard!\""
   ]
  },
  {
   "cell_type": "code",
   "execution_count": 103,
   "metadata": {},
   "outputs": [],
   "source": [
    "sentences = [text11,text12]\n",
    "\n",
    "# text 11 and 12 are problematic examples as they produce 0.7015 similarity score in a normal conversation"
   ]
  },
  {
   "cell_type": "code",
   "execution_count": 104,
   "metadata": {},
   "outputs": [
    {
     "data": {
      "text/plain": [
       "tensor([[0.7015]], device='cuda:0')"
      ]
     },
     "execution_count": 104,
     "metadata": {},
     "output_type": "execute_result"
    }
   ],
   "source": [
    "embedding_1= model.encode(sentences[0], convert_to_tensor=True)\n",
    "embedding_2 = model.encode(sentences[1], convert_to_tensor=True)\n",
    "\n",
    "similarity_object = util.pytorch_cos_sim(embedding_1, embedding_2)\n",
    "\n",
    "similarity_object"
   ]
  }
 ],
 "metadata": {
  "kernelspec": {
   "display_name": ".env",
   "language": "python",
   "name": "python3"
  },
  "language_info": {
   "codemirror_mode": {
    "name": "ipython",
    "version": 3
   },
   "file_extension": ".py",
   "mimetype": "text/x-python",
   "name": "python",
   "nbconvert_exporter": "python",
   "pygments_lexer": "ipython3",
   "version": "3.11.5"
  }
 },
 "nbformat": 4,
 "nbformat_minor": 2
}
