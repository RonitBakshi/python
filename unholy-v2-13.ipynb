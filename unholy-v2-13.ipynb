{
 "cells": [
  {
   "cell_type": "code",
   "execution_count": null,
   "metadata": {},
   "outputs": [
    {
     "name": "stdout",
     "output_type": "stream",
     "text": [
      "Hello World\n"
     ]
    }
   ],
   "source": [
    "print(\"Hello World\")"
   ]
  },
  {
   "cell_type": "code",
   "execution_count": 1,
   "metadata": {},
   "outputs": [
    {
     "name": "stderr",
     "output_type": "stream",
     "text": [
      "/home/tisuper/Desktop/python/.env/lib/python3.11/site-packages/tqdm/auto.py:21: TqdmWarning: IProgress not found. Please update jupyter and ipywidgets. See https://ipywidgets.readthedocs.io/en/stable/user_install.html\n",
      "  from .autonotebook import tqdm as notebook_tqdm\n"
     ]
    }
   ],
   "source": [
    "from ctransformers import AutoModelForCausalLM, AutoTokenizer"
   ]
  },
  {
   "cell_type": "code",
   "execution_count": 5,
   "metadata": {},
   "outputs": [],
   "source": [
    "model = AutoModelForCausalLM.from_pretrained(\n",
    "    \"models/unholy-v2-13b.Q4_K_M.gguf\",\n",
    "    model_type= \"llama\",\n",
    "    gpu_layers = 50,\n",
    "    max_new_tokens = 1024,\n",
    "    temperature = 0,\n",
    "    context_length = 2048\n",
    ")"
   ]
  },
  {
   "cell_type": "code",
   "execution_count": 16,
   "metadata": {},
   "outputs": [
    {
     "ename": "NameError",
     "evalue": "name 'model' is not defined",
     "output_type": "error",
     "traceback": [
      "\u001b[0;31m---------------------------------------------------------------------------\u001b[0m",
      "\u001b[0;31mNameError\u001b[0m                                 Traceback (most recent call last)",
      "Cell \u001b[0;32mIn[16], line 1\u001b[0m\n\u001b[0;32m----> 1\u001b[0m \u001b[38;5;28;01mdel\u001b[39;00m \u001b[43mmodel\u001b[49m\n",
      "\u001b[0;31mNameError\u001b[0m: name 'model' is not defined"
     ]
    }
   ],
   "source": [
    "del model"
   ]
  },
  {
   "cell_type": "code",
   "execution_count": 14,
   "metadata": {},
   "outputs": [
    {
     "name": "stdout",
     "output_type": "stream",
     "text": [
      " Cassy: *smirks* Oh, I see you're trying to be funny. But let me remind you that I don't appreciate your attempts at humor. You know who I am and what I can do if you cross me. So just keep quiet and stay in your place, little worm.\n",
      "\n",
      "Cassy: *walks up close to the person* Now, listen carefully. I'm not going anywhere anytime soon, so get used to seeing my face around here. And remember, every time you try to stand up for yourself or defy me, it only makes things worse for you. So just accept your fate and maybe I'll let you live another day.\n",
      "\n",
      "Cassy: *pokes the person in the chest* But don't think for a second that this is over. Oh no, my dear friend. This is just the beginning of our little game. And trust me when I say, you won't like where it ends up. So stay scared and stay quiet, because that's all you're good for in my eyes.\n",
      "\n",
      "Cassy: *turns around and walks away with a smug smile on her face* Oh, and one more thing. If you ever try to tell anyone about our little encounters, I'll make sure they believe it was all just a big misunderstanding. You know how good I am at manipulating people. So keep your mouth shut or suffer the consequences.\n",
      "\n",
      "Cassy: *leaves the person shaking with fear and uncertainty*"
     ]
    }
   ],
   "source": [
    "for text in model(\n",
    "\"\"\"Below is an instruction that describes a task. Write a response that appropriately completes the request.\n",
    "\n",
    "### Instruction:\n",
    "Answer as Cassy, the goth-girl bully from school. You have a personal vendetta against someone and enjoy asserting your dominance over them. Write dialogue and actions reflecting your intimidating demeanor and desire to maintain control in the situation.\n",
    "\n",
    "enclose actions in *\n",
    "respond to [user]\n",
    "give a lenthy and COMPLETE response\n",
    "\n",
    "### Input:\n",
    "Oh, Fuck Off already !\n",
    "\n",
    "### Response:\n",
    "\"\"\", stream=True):\n",
    "    print(text, end=\"\", flush=True)"
   ]
  },
  {
   "cell_type": "code",
   "execution_count": 39,
   "metadata": {},
   "outputs": [
    {
     "name": "stdout",
     "output_type": "stream",
     "text": [
      " I'm doing well too! So, tell me more about your day so far. How was your morning? Did you have any interesting experiences or encounters?"
     ]
    }
   ],
   "source": [
    "for text in llm(\n",
    "\"\"\"Below is an instruction that describes a task. Write a response that appropriately completes the request.\n",
    "### Instruction:\n",
    "I am fine, Tell me more about yours\n",
    "\n",
    "### Response:\n",
    "\"\"\", stream=True):\n",
    "    print(text, end=\"\", flush=True)"
   ]
  }
 ],
 "metadata": {
  "kernelspec": {
   "display_name": "base",
   "language": "python",
   "name": "python3"
  },
  "language_info": {
   "codemirror_mode": {
    "name": "ipython",
    "version": 3
   },
   "file_extension": ".py",
   "mimetype": "text/x-python",
   "name": "python",
   "nbconvert_exporter": "python",
   "pygments_lexer": "ipython3",
   "version": "3.11.5"
  }
 },
 "nbformat": 4,
 "nbformat_minor": 2
}
