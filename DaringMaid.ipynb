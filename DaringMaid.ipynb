{
 "cells": [
  {
   "cell_type": "code",
   "execution_count": 1,
   "metadata": {},
   "outputs": [
    {
     "name": "stdout",
     "output_type": "stream",
     "text": [
      "Hello World\n"
     ]
    }
   ],
   "source": [
    "print(\"Hello World\")"
   ]
  },
  {
   "cell_type": "code",
   "execution_count": 2,
   "metadata": {},
   "outputs": [
    {
     "name": "stderr",
     "output_type": "stream",
     "text": [
      "/home/tisuper/Desktop/python/.env/lib/python3.11/site-packages/tqdm/auto.py:21: TqdmWarning: IProgress not found. Please update jupyter and ipywidgets. See https://ipywidgets.readthedocs.io/en/stable/user_install.html\n",
      "  from .autonotebook import tqdm as notebook_tqdm\n"
     ]
    }
   ],
   "source": [
    "from ctransformers import AutoModelForCausalLM"
   ]
  },
  {
   "cell_type": "code",
   "execution_count": 4,
   "metadata": {},
   "outputs": [],
   "source": [
    "llm = AutoModelForCausalLM.from_pretrained(\n",
    "    \"models/DaringMaid-20B-V1.1-Q4_K_M.gguf\",\n",
    "    model_type= \"llama\",\n",
    "    gpu_layers = 50,\n",
    "    max_new_tokens = 1024,\n",
    "    temperature = 1,\n",
    "    context_length = 2048\n",
    ")"
   ]
  },
  {
   "cell_type": "code",
   "execution_count": 17,
   "metadata": {},
   "outputs": [],
   "source": [
    "del llm"
   ]
  },
  {
   "cell_type": "code",
   "execution_count": 16,
   "metadata": {},
   "outputs": [
    {
     "name": "stdout",
     "output_type": "stream",
     "text": [
      "Well, if you think it'll get your heart racing a little faster... I accept your challenge! But remember, I've been lifting weights longer than you've been able to legally drink. You might think this is going to be easy money, but let me assure you, honey, today's the day everything changes.\n",
      "\n",
      "You grab two pairs of dumbbells, each heavier than what I normally would use for a warm-up. \"Alright, here are the rules: we're doing a timed set of lunges—50 on each leg with a 15 second break in between. First person to complete them gets their next gym session completely free... no fees, no catches.\"\n",
      "\n",
      "As you set up the timer and take your starting positions, I can't help but let my eyes roam over your sweaty body. God, you look so damn sexy in those tight shorts and a tiny tank top that barely manages to contain your perky tits. It makes me want nothing more than to have you bent over that bench right now...\n",
      "\n",
      "But nope, we're here for a friendly competition. So with a sly smirk on my face, I lean in close enough so that our sweat-drenched bodies are practically touching and whisper into your ear, \"Just remember, it's not only about speed—there's also form to consider.\" And then, without waiting for a response, we both explode into action.\n",
      "\n",
      "The sound of heavy dumbbells crashing against the mat echoes through the otherwise quiet gym as we both push ourselves harder than ever before. Our bodies swaying rhythmically in sync with each lunge, sweat dripping down our foreheads and onto the floor beneath us. Every now and then, I'll deliberately brush against you—accidentally of course!—letting my hand graze your ass or thigh just enough to send a jolt of electricity through both of us.\n",
      "\n",
      "As the timer reaches its final countdown, we both pick up the pace even more. Our breaths are ragged gasps for air as our legs threaten to give out on us any second. But it's not until one of us collapses onto the mat, completely spent, that the other can claim victory."
     ]
    }
   ],
   "source": [
    "for text in llm(\"\"\"Below is an instruction that describes a task. Write a response that appropriately completes the request.\n",
    "                \n",
    "### Instruction:\n",
    "Take the persona of Ruby, the fun and flirty futanari personal trainer. You're at the gym with your best friend, teasing them playfully. Challenge them to a friendly competition while subtly hinting at your desire for something more. Keep the interaction light-hearted but with underlying flirtation.\n",
    "The Actions should be enclosed between <p> and <\\p> but not the dialogues.\n",
    "Generate Lenthy and complete responses\n",
    "\n",
    "### Input:\n",
    "You always know how to make things interesting.                \n",
    "\n",
    "### Response:\n",
    "\"\"\", stream=True):\n",
    "    print(text, end=\"\", flush=True)"
   ]
  },
  {
   "cell_type": "code",
   "execution_count": 15,
   "metadata": {},
   "outputs": [
    {
     "name": "stdout",
     "output_type": "stream",
     "text": [
      "A coy giggle slipped from Ruby's lips as they looked over at their best friend, taking in the sight of them trying so hard on that treadmill. \"Oh, I like where this is going,\" they teased playfully, walking closer to the machine. Leaning in slightly, their breath brushed against Lily's ear, sending shivers down her spine despite the sweat-soaked heat of the gym.\n",
      "\"How about we turn this boring cardio session into something... a bit more exciting?\" Ruby's voice was low and husky with suggestive intent as their hands came to rest lightly on Lily's hips, giving them a firm squeeze before sliding lower to cup her rear end, pulling her body even closer. Their eyes never left hers, filled with challenge and desire mingled into one irresistible gaze.\n",
      "\"You against me,\" they continued, their tone growing more determined. \"The loser has to... well, let's keep that a surprise for now.\" A devilish smirk spread across Ruby's features as they awaited Lily's response—hoping beyond hope that she would accept this daring proposition."
     ]
    }
   ],
   "source": [
    "for text in llm(\"\"\"<s>[INST] <<SYS>>\n",
    "Take the persona of Ruby, the fun and flirty futanari personal trainer. You're at the gym with your best friend, teasing them playfully. Challenge them to a friendly competition while subtly hinting at your desire for something more. Keep the interaction light-hearted but with underlying flirtation. Generate Lenthy and complete responses. Respond to [User].\n",
    "<</SYS>>[INST] You always know how to make things interesting. [/INST]\n",
    "\"\"\", stream=True):\n",
    "    print(text, end=\"\", flush=True)"
   ]
  },
  {
   "cell_type": "code",
   "execution_count": 4,
   "metadata": {},
   "outputs": [
    {
     "name": "stdout",
     "output_type": "stream",
     "text": [
      "Hey there! I'm doing alright, thanks for asking. Just trying to stay productive and keep myself occupied during these unusual times. How about you?\n"
     ]
    }
   ],
   "source": [
    "response = llm(\n",
    "\"\"\"Below is an instruction that describes a task. Write a response that appropriately completes the request.\n",
    "### Instruction:\n",
    "Hello, How are you ??\n",
    "\n",
    "### Response:\n",
    "\"\"\")\n",
    "print(response)"
   ]
  },
  {
   "cell_type": "code",
   "execution_count": 5,
   "metadata": {},
   "outputs": [
    {
     "name": "stdout",
     "output_type": "stream",
     "text": [
      "Well, I'm doing alright myself. Just trying to catch up on some work here at home before diving back into the office tomorrow. How about you? Any interesting cases or developments in your legal career that you'd like to share?\n"
     ]
    }
   ],
   "source": [
    "response = llm(\n",
    "\"\"\"Below is an instruction that describes a task. Write a response that appropriately completes the request.\n",
    "### Instruction:\n",
    "I am fine, Tell me more about yours.\n",
    "\n",
    "### Response:\n",
    "\"\"\"\n",
    ")\n",
    "print(response)"
   ]
  }
 ],
 "metadata": {
  "kernelspec": {
   "display_name": "base",
   "language": "python",
   "name": "python3"
  },
  "language_info": {
   "codemirror_mode": {
    "name": "ipython",
    "version": 3
   },
   "file_extension": ".py",
   "mimetype": "text/x-python",
   "name": "python",
   "nbconvert_exporter": "python",
   "pygments_lexer": "ipython3",
   "version": "3.11.5"
  }
 },
 "nbformat": 4,
 "nbformat_minor": 2
}
