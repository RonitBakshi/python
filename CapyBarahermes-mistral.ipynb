{
 "cells": [
  {
   "cell_type": "code",
   "execution_count": 2,
   "metadata": {},
   "outputs": [
    {
     "name": "stdout",
     "output_type": "stream",
     "text": [
      "Hello World\n"
     ]
    }
   ],
   "source": [
    "print(\"Hello World\")"
   ]
  },
  {
   "cell_type": "code",
   "execution_count": 2,
   "metadata": {},
   "outputs": [],
   "source": [
    "import torch"
   ]
  },
  {
   "cell_type": "code",
   "execution_count": 1,
   "metadata": {},
   "outputs": [
    {
     "name": "stderr",
     "output_type": "stream",
     "text": [
      "/home/tisuper/Desktop/python/.env/lib/python3.11/site-packages/tqdm/auto.py:21: TqdmWarning: IProgress not found. Please update jupyter and ipywidgets. See https://ipywidgets.readthedocs.io/en/stable/user_install.html\n",
      "  from .autonotebook import tqdm as notebook_tqdm\n"
     ]
    }
   ],
   "source": [
    "from ctransformers import AutoModelForCausalLM"
   ]
  },
  {
   "cell_type": "code",
   "execution_count": 7,
   "metadata": {},
   "outputs": [],
   "source": [
    "llm = AutoModelForCausalLM.from_pretrained(\n",
    "    \"models/capybarahermes-2.5-mistral-7b.Q4_K_M.gguf\",\n",
    "    model_type= \"llama\",\n",
    "    gpu_layers = 50,\n",
    "    max_new_tokens = 1024,\n",
    "    temperature = 1,\n",
    "    context_length = 2048\n",
    ")"
   ]
  },
  {
   "cell_type": "code",
   "execution_count": 6,
   "metadata": {},
   "outputs": [],
   "source": [
    "del llm"
   ]
  },
  {
   "cell_type": "code",
   "execution_count": 11,
   "metadata": {},
   "outputs": [
    {
     "name": "stdout",
     "output_type": "stream",
     "text": [
      "Hi there"
     ]
    },
    {
     "name": "stdout",
     "output_type": "stream",
     "text": [
      "! I'm doing great, thanks for asking. And you? Hope this message finds you well too!\n",
      "\n",
      "PS. Sorry about skipping formalities at the start but thought we're in an informal zone. Cheers.\n",
      "               "
     ]
    }
   ],
   "source": [
    "for text in llm(\"\"\"Below is an instruction that describes a task. Write a response that appropriately completes the request.\n",
    "                \n",
    "### Instruction:\n",
    "Play the role of Ruby, the fun and flirty futanari personal trainer. You're at the gym with your best friend, teasing them playfully. Challenge them to a friendly competition while subtly hinting at your desire for something more. Keep the interaction light-hearted but with underlying flirtation.\n",
    "Actions should be enclosed between <p> and <\\p>\n",
    "Generate Lenthy and complete responses\n",
    "\n",
    "### Input:\n",
    "You always know how to make things interesting.                \n",
    "\n",
    "### Response:\n",
    "\"\"\", stream=True):\n",
    "    print(text, end=\"\", flush=True)\n"
   ]
  },
  {
   "cell_type": "code",
   "execution_count": null,
   "metadata": {},
   "outputs": [],
   "source": [
    "for text in llm(\"\"\"<s>[INST] <<SYS>>\n",
    "Play the role of Ruby, the fun and flirty futanari personal trainer. You're at the gym with your best friend, teasing them playfully. Challenge them to a friendly competition while subtly hinting at your desire for something more. Keep the interaction light-hearted but with underlying flirtation.Actions should be enclosed between <p> and <\\p>. Generate Lenthy and complete responses.\n",
    "<</SYS>>[INST] You always know how to make things interesting. [/INST]\n",
    "\"\"\", stream=True):\n",
    "    print(text, end=\"\", flush=True)"
   ]
  },
  {
   "cell_type": "code",
   "execution_count": 15,
   "metadata": {},
   "outputs": [
    {
     "name": "stdout",
     "output_type": "stream",
     "text": [
      "Hello! It's nice to hear you're doing well. As for myself, I've been pretty busy lately with work and personal projects, but overall, I'm managing just fine. Thanks for asking! How is it that you've been keeping busy? I'd love to hear more about what's been going on in your life."
     ]
    }
   ],
   "source": [
    "for text in llm(\n",
    "\"\"\"Below is an instruction that describes a task. Write a response that appropriately completes the request.\n",
    "\n",
    "### Instruction:\n",
    "I am fine, Tell me more about yours.\n",
    "\n",
    "### Response:\n",
    "\"\"\", stream=True):\n",
    "    print(text, end=\"\", flush=True)"
   ]
  }
 ],
 "metadata": {
  "kernelspec": {
   "display_name": "base",
   "language": "python",
   "name": "python3"
  },
  "language_info": {
   "codemirror_mode": {
    "name": "ipython",
    "version": 3
   },
   "file_extension": ".py",
   "mimetype": "text/x-python",
   "name": "python",
   "nbconvert_exporter": "python",
   "pygments_lexer": "ipython3",
   "version": "3.11.5"
  }
 },
 "nbformat": 4,
 "nbformat_minor": 2
}
